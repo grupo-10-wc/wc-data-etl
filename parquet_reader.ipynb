{
 "cells": [
  {
   "cell_type": "code",
   "execution_count": null,
   "id": "bc15d20f",
   "metadata": {},
   "outputs": [],
   "source": [
    "import pandas as pd"
   ]
  },
  {
   "cell_type": "code",
   "execution_count": null,
   "id": "f61bf10b",
   "metadata": {},
   "outputs": [],
   "source": [
    "df = pd.read_parquet(\"./dados.parquet\")\n",
    "\n",
    "# Visualizar as primeiras linhas\n",
    "print(df.head())\n",
    "\n",
    "# Remover linhas com valores nulos\n",
    "df = df.dropna()\n",
    "\n",
    "# Exibir informações gerais do DataFrame\n",
    "print(df.info())\n",
    "\n",
    "# Mostrar estatísticas descritivas\n",
    "print(df.describe())"
   ]
  }
 ],
 "metadata": {
  "language_info": {
   "name": "python"
  }
 },
 "nbformat": 4,
 "nbformat_minor": 5
}
