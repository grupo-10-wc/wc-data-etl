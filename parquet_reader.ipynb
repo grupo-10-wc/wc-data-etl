{
 "cells": [
  {
   "cell_type": "code",
   "execution_count": null,
   "id": "bc15d20f",
   "metadata": {},
   "outputs": [],
   "source": [
    "import pandas as pd\n",
    "import gspread\n",
    "from gspread_dataframe import set_with_dataframe"
   ]
  },
  {
   "cell_type": "code",
   "execution_count": null,
   "id": "f61bf10b",
   "metadata": {},
   "outputs": [],
   "source": [
    "df = pd.read_csv(\"./dados.csv\")\n",
    "\n",
    "print(df.head())\n",
    "\n",
    "df = df.dropna()\n",
    "\n",
    "print(df.info())\n",
    "\n",
    "print(df.describe())\n",
    "\n",
    "gc = gspread.service_account(filename='credentials.json')\n",
    "spreadsheet = gc.open(\"wc-grupo-10\")\n",
    "worksheet = spreadsheet.wc\n",
    "set_with_dataframe(worksheet, df)\n",
    "\n",
    "print(\"DataFrame enviado para o Google Sheets com sucesso.\")"
   ]
  }
 ],
 "metadata": {
  "kernelspec": {
   "display_name": "env",
   "language": "python",
   "name": "python3"
  },
  "language_info": {
   "codemirror_mode": {
    "name": "ipython",
    "version": 3
   },
   "file_extension": ".py",
   "mimetype": "text/x-python",
   "name": "python",
   "nbconvert_exporter": "python",
   "pygments_lexer": "ipython3",
   "version": "3.12.3"
  }
 },
 "nbformat": 4,
 "nbformat_minor": 5
}
