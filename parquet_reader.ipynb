{
  "cells": [
    {
      "cell_type": "code",
      "execution_count": 5,
      "id": "bc15d20f",
      "metadata": {
        "id": "bc15d20f"
      },
      "outputs": [],
      "source": [
        "import pandas as pd\n",
        "import gspread\n",
        "from gspread_dataframe import set_with_dataframe"
      ]
    },
    {
      "cell_type": "code",
      "execution_count": 9,
      "id": "f61bf10b",
      "metadata": {
        "colab": {
          "base_uri": "https://localhost:8080/"
        },
        "id": "f61bf10b",
        "outputId": "47307d50-6700-4963-d022-69a3f6fd70ed"
      },
      "outputs": [
        {
          "output_type": "stream",
          "name": "stdout",
          "text": [
            "  sensor_model measure_unit                device           location  \\\n",
            "0    Shelly EM          kWh  Disjuntor Geral 7669  Quadro de Energia   \n",
            "1    Shelly EM          kWh  Disjuntor Geral 6213  Quadro de Energia   \n",
            "2    Shelly EM          kWh  Disjuntor Geral 2061  Quadro de Energia   \n",
            "3    Shelly EM          kWh  Disjuntor Geral 6327  Quadro de Energia   \n",
            "4    Shelly EM          kWh  Disjuntor Geral 7085  Quadro de Energia   \n",
            "\n",
            "            data_type     data                  created_at  \n",
            "0  Consumo de Energia  1.01536  2025-05-28 20:11:40.276062  \n",
            "1  Consumo de Energia  1.00804  2025-05-28 20:12:40.276062  \n",
            "2  Consumo de Energia  0.89575  2025-05-28 20:13:40.276062  \n",
            "3  Consumo de Energia  0.94968  2025-05-28 20:14:40.276062  \n",
            "4  Consumo de Energia  0.90979  2025-05-28 20:15:40.276062  \n",
            "<class 'pandas.core.frame.DataFrame'>\n",
            "RangeIndex: 5400 entries, 0 to 5399\n",
            "Data columns (total 7 columns):\n",
            " #   Column        Non-Null Count  Dtype  \n",
            "---  ------        --------------  -----  \n",
            " 0   sensor_model  5400 non-null   object \n",
            " 1   measure_unit  5400 non-null   object \n",
            " 2   device        5400 non-null   object \n",
            " 3   location      5400 non-null   object \n",
            " 4   data_type     5400 non-null   object \n",
            " 5   data          5400 non-null   float64\n",
            " 6   created_at    5400 non-null   object \n",
            "dtypes: float64(1), object(6)\n",
            "memory usage: 295.4+ KB\n",
            "None\n",
            "              data\n",
            "count  5400.000000\n",
            "mean     52.495066\n",
            "std      79.227554\n",
            "min      -8.592640\n",
            "25%       0.960895\n",
            "50%      11.996645\n",
            "75%      69.252527\n",
            "max     223.592410\n",
            "0       2025-05-28 20:11:40\n",
            "1       2025-05-28 20:12:40\n",
            "2       2025-05-28 20:13:40\n",
            "3       2025-05-28 20:14:40\n",
            "4       2025-05-28 20:15:40\n",
            "               ...         \n",
            "5395    2025-05-29 11:06:48\n",
            "5396    2025-05-29 11:07:48\n",
            "5397    2025-05-29 11:08:48\n",
            "5398    2025-05-29 11:09:48\n",
            "5399    2025-05-29 11:10:48\n",
            "Name: created_at, Length: 5400, dtype: object\n",
            "['wc', 'energia total', 'fator de potencia', 'corrente elétrica', 'analise emocional']\n",
            "DataFrame enviado para o Google Sheets com sucesso.\n"
          ]
        }
      ],
      "source": [
        "df = pd.read_csv(\"./dados.csv\")\n",
        "\n",
        "print(df.head())\n",
        "\n",
        "df = df.dropna()\n",
        "\n",
        "print(df.info())\n",
        "\n",
        "print(df.describe())\n",
        "\n",
        "df['created_at'] = [datetime[:-7] for datetime in  df['created_at']]\n",
        "\n",
        "print(df['created_at'])\n",
        "\n",
        "gc = gspread.service_account(filename='credentials.json')\n",
        "spreadsheet = gc.open(\"wc-grupo-10\")\n",
        "print([ws.title for ws in spreadsheet.worksheets()])\n",
        "worksheet = spreadsheet.worksheet(\"wc\")\n",
        "set_with_dataframe(worksheet, df)\n",
        "\n",
        "print(\"DataFrame enviado para o Google Sheets com sucesso.\")"
      ]
    },
    {
      "cell_type": "markdown",
      "source": [],
      "metadata": {
        "id": "KfS1igMWXvTR"
      },
      "id": "KfS1igMWXvTR"
    },
    {
      "cell_type": "code",
      "source": [],
      "metadata": {
        "id": "-mIUSXPRXvr4"
      },
      "id": "-mIUSXPRXvr4",
      "execution_count": null,
      "outputs": []
    }
  ],
  "metadata": {
    "kernelspec": {
      "display_name": "env",
      "language": "python",
      "name": "python3"
    },
    "language_info": {
      "codemirror_mode": {
        "name": "ipython",
        "version": 3
      },
      "file_extension": ".py",
      "mimetype": "text/x-python",
      "name": "python",
      "nbconvert_exporter": "python",
      "pygments_lexer": "ipython3",
      "version": "3.12.3"
    },
    "colab": {
      "provenance": []
    }
  },
  "nbformat": 4,
  "nbformat_minor": 5
}
