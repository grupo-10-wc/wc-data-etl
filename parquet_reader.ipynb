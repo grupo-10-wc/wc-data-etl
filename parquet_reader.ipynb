{
 "cells": [
  {
   "cell_type": "code",
   "execution_count": 1,
   "id": "eb373be7",
   "metadata": {},
   "outputs": [],
   "source": [
    "!pip install gspread gspread_dataframe --quiet"
   ]
  },
  {
   "cell_type": "code",
   "execution_count": null,
   "id": "bc15d20f",
   "metadata": {},
   "outputs": [],
   "source": [
    "import pandas as pd\n",
    "import gspread\n",
    "from gspread_dataframe import set_with_dataframe"
   ]
  },
  {
   "cell_type": "code",
   "execution_count": null,
   "id": "f61bf10b",
   "metadata": {},
   "outputs": [],
   "source": [
    "df = pd.read_parquet(\"./dados.parquet\")\n",
    "\n",
    "# Visualizar as primeiras linhas\n",
    "print(df.head())\n",
    "\n",
    "# Remover linhas com valores nulos\n",
    "df = df.dropna()\n",
    "\n",
    "# Exibir informações gerais do DataFrame\n",
    "print(df.info())\n",
    "\n",
    "# Mostrar estatísticas descritivas\n",
    "print(df.describe())\n",
    "\n",
    "gc = gspread.service_account(filename='credentials.json')\n",
    "spreadsheet = gc.open(\"wc-grupo-10\")\n",
    "worksheet = spreadsheet.wc\n",
    "set_with_dataframe(worksheet, df)\n",
    "\n",
    "print(\"DataFrame enviado para o Google Sheets com sucesso.\")"
   ]
  }
 ],
 "metadata": {
  "kernelspec": {
   "display_name": "Python 3",
   "language": "python",
   "name": "python3"
  },
  "language_info": {
   "codemirror_mode": {
    "name": "ipython",
    "version": 3
   },
   "file_extension": ".py",
   "mimetype": "text/x-python",
   "name": "python",
   "nbconvert_exporter": "python",
   "pygments_lexer": "ipython3",
   "version": "3.8.10"
  }
 },
 "nbformat": 4,
 "nbformat_minor": 5
}
