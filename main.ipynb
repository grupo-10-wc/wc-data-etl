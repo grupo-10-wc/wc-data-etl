{
 "cells": [
  {
   "cell_type": "markdown",
   "id": "ca1ee064",
   "metadata": {},
   "source": [
    "### Bibliotecas utilizadas"
   ]
  },
  {
   "cell_type": "code",
   "execution_count": 2,
   "id": "bc15d20f",
   "metadata": {
    "id": "bc15d20f"
   },
   "outputs": [],
   "source": [
    "import io\n",
    "import boto3\n",
    "import gspread\n",
    "import pandas as pd\n",
    "from gspread_dataframe import set_with_dataframe"
   ]
  },
  {
   "cell_type": "markdown",
   "id": "b818643f",
   "metadata": {},
   "source": [
    "### Lendo CSV do S3"
   ]
  },
  {
   "cell_type": "code",
   "execution_count": null,
   "id": "1826d85f",
   "metadata": {},
   "outputs": [],
   "source": [
    "s3_client = boto3.client('s3')\n",
    "\n",
    "res = s3_client.get_object(Bucket=\"trusted\", Key=\"dados.csv\")\n",
    "\n",
    "csv_content = res['Body'].read()"
   ]
  },
  {
   "cell_type": "markdown",
   "id": "c936a053",
   "metadata": {},
   "source": [
    "### Leitura e Tratamento  de dados"
   ]
  },
  {
   "cell_type": "code",
   "execution_count": 5,
   "id": "f61bf10b",
   "metadata": {
    "colab": {
     "base_uri": "https://localhost:8080/"
    },
    "id": "f61bf10b",
    "outputId": "47307d50-6700-4963-d022-69a3f6fd70ed"
   },
   "outputs": [],
   "source": [
    "# df = pd.read_csv(io.BytesIO(csv_content))\n",
    "df = pd.read_parquet(\"./dados.parquet\")\n",
    "\n",
    "df = df.dropna()\n",
    "\n",
    "df['FP minimo'] = ''\n",
    "df.loc[df['sensor_model'] == 'Fluke 1735', 'FP minimo'] = 92\n",
    "df.loc[df['sensor_model'] == 'Fluke 1735','data'] *= 100\n",
    "\n",
    "df['Horario'] = df['created_at'].astype('datetime64[ns]').dt.strftime('%H:%M')\n",
    "df['Mês'] = df['created_at'].astype('datetime64[ns]').dt.strftime('%m')\n",
    "\n",
    "\n",
    "df['created_at'] = df['created_at'].astype('datetime64[ns]').dt.strftime('%d/%m/%Y %H:%M')\n",
    "df.rename(columns={\n",
    "'sensor_model':'Origem', 'measure_unit':'Unidade de Medida', 'device':'Dispositivo', 'location':'Localizacao', 'data_type':'Tipo de Dado', 'data':'Registro', 'created_at':'Data/Hora'\n",
    "}, inplace=True)\n",
    "\n",
    "df.to_csv('dados_tratados.csv', index=False, encoding='utf-8')"
   ]
  },
  {
   "cell_type": "markdown",
   "id": "20b6d618",
   "metadata": {},
   "source": [
    "### Exportação para Google Sheets"
   ]
  },
  {
   "cell_type": "code",
   "execution_count": 28,
   "id": "-mIUSXPRXvr4",
   "metadata": {
    "id": "-mIUSXPRXvr4"
   },
   "outputs": [
    {
     "name": "stdout",
     "output_type": "stream",
     "text": [
      "['wc', 'wordcloud-data', 'energia total', 'Fator de potência', 'consumo total de energia', 'corrente elétrica', 'analise emocional', 'Detalhe1-alface-bom']\n",
      "DataFrame enviado para o Google Sheets com sucesso.\n"
     ]
    }
   ],
   "source": [
    "gc = gspread.service_account(filename='credentials.json')\n",
    "spreadsheet = gc.open(\"wc-grupo-10\")\n",
    "print([ws.title for ws in spreadsheet.worksheets()])\n",
    "worksheet = spreadsheet.worksheet(\"wc\")\n",
    "set_with_dataframe(worksheet, df)\n",
    "print(\"DataFrame enviado para o Google Sheets com sucesso.\")"
   ]
  }
 ],
 "metadata": {
  "colab": {
   "provenance": []
  },
  "kernelspec": {
   "display_name": "env",
   "language": "python",
   "name": "python3"
  },
  "language_info": {
   "codemirror_mode": {
    "name": "ipython",
    "version": 3
   },
   "file_extension": ".py",
   "mimetype": "text/x-python",
   "name": "python",
   "nbconvert_exporter": "python",
   "pygments_lexer": "ipython3",
   "version": "3.12.3"
  }
 },
 "nbformat": 4,
 "nbformat_minor": 5
}
